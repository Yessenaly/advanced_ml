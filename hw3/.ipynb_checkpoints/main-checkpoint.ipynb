{
 "cells": [
  {
   "cell_type": "code",
   "execution_count": 1,
   "id": "ff35c841",
   "metadata": {},
   "outputs": [],
   "source": [
    "import pandas as pd\n",
    "import numpy as np\n",
    "from tqdm.auto import tqdm\n",
    "import re\n",
    "import codecs\n",
    "from collections import Counter"
   ]
  },
  {
   "cell_type": "code",
   "execution_count": 2,
   "id": "655ff27c",
   "metadata": {},
   "outputs": [],
   "source": [
    "PATH_TO_TEXT = 'corpora/WarAndPeace.txt'"
   ]
  },
  {
   "cell_type": "code",
   "execution_count": 3,
   "id": "d662f209",
   "metadata": {},
   "outputs": [],
   "source": [
    "def preprocess_text(text):\n",
    "    a = re.sub(r'[^а-яё ]', ' ', text.lower())\n",
    "    return re.sub(r'\\s+', ' ', a)[1:]"
   ]
  },
  {
   "cell_type": "code",
   "execution_count": 4,
   "id": "6a56379c",
   "metadata": {},
   "outputs": [],
   "source": [
    "f = codecs.open(PATH_TO_TEXT, \"r\", \"utf_8_sig\" )\n",
    "text = f.read()\n",
    "f.close()"
   ]
  },
  {
   "cell_type": "code",
   "execution_count": 5,
   "id": "fdc6bb32",
   "metadata": {},
   "outputs": [],
   "source": [
    "text = preprocess_text(text)"
   ]
  },
  {
   "cell_type": "code",
   "execution_count": 6,
   "id": "1cf9371d",
   "metadata": {},
   "outputs": [],
   "source": [
    "TEST_TEXT = \"\"\"\n",
    "    Толстой видел несомненную связь между разрушением социальных основ современного дворянского общества, \n",
    "    построенного на традициях наследственности и преемственности, и распадом семейных устоев. \n",
    "    Не только семья Каренина, но и семья Облонского разрушается на глазах. \n",
    "    Один Левин сравнивает себя с весталкой, хранительницей огня.\n",
    "\"\"\".replace(',', '').replace('.', '').replace('\\n', '').replace('  ', ' ').lower()"
   ]
  },
  {
   "cell_type": "markdown",
   "id": "d70f941e",
   "metadata": {},
   "source": [
    "### Пункт 1"
   ]
  },
  {
   "cell_type": "code",
   "execution_count": 8,
   "id": "a102c8e3",
   "metadata": {},
   "outputs": [],
   "source": [
    "counter = Counter(text)"
   ]
  },
  {
   "cell_type": "code",
   "execution_count": 9,
   "id": "5a8c844e",
   "metadata": {},
   "outputs": [],
   "source": [
    "letters = list(counter.keys())"
   ]
  },
  {
   "cell_type": "code",
   "execution_count": 10,
   "id": "04bea368",
   "metadata": {},
   "outputs": [],
   "source": [
    "letters.sort()"
   ]
  },
  {
   "cell_type": "code",
   "execution_count": 11,
   "id": "1ee6deea",
   "metadata": {},
   "outputs": [],
   "source": [
    "perm = np.random.permutation(len(letters))"
   ]
  },
  {
   "cell_type": "code",
   "execution_count": 12,
   "id": "69e4666f",
   "metadata": {},
   "outputs": [],
   "source": [
    "letters_perm = {}\n",
    "for i in range(len(letters)):\n",
    "    letters_perm[letters[i]] = letters[perm[i]]"
   ]
  },
  {
   "cell_type": "code",
   "execution_count": 13,
   "id": "172e42fe",
   "metadata": {},
   "outputs": [
    {
     "data": {
      "text/plain": [
       "{' ': 'л',\n",
       " 'а': 'х',\n",
       " 'б': 'ч',\n",
       " 'в': 'у',\n",
       " 'г': 'н',\n",
       " 'д': 'ё',\n",
       " 'е': 'щ',\n",
       " 'ж': 'п',\n",
       " 'з': 'в',\n",
       " 'и': 'с',\n",
       " 'й': 'к',\n",
       " 'к': 'ь',\n",
       " 'л': 'м',\n",
       " 'м': 'а',\n",
       " 'н': 'э',\n",
       " 'о': 'т',\n",
       " 'п': 'й',\n",
       " 'р': ' ',\n",
       " 'с': 'ш',\n",
       " 'т': 'ж',\n",
       " 'у': 'ъ',\n",
       " 'ф': 'ц',\n",
       " 'х': 'е',\n",
       " 'ц': 'я',\n",
       " 'ч': 'о',\n",
       " 'ш': 'ы',\n",
       " 'щ': 'ф',\n",
       " 'ъ': 'з',\n",
       " 'ы': 'д',\n",
       " 'ь': 'и',\n",
       " 'э': 'р',\n",
       " 'ю': 'ю',\n",
       " 'я': 'г',\n",
       " 'ё': 'б'}"
      ]
     },
     "execution_count": 13,
     "metadata": {},
     "output_type": "execute_result"
    }
   ],
   "source": [
    "letters_perm"
   ]
  },
  {
   "cell_type": "code",
   "execution_count": 14,
   "id": "95b666f0",
   "metadata": {},
   "outputs": [],
   "source": [
    "def encode(text, letters_perm):\n",
    "    res = ''\n",
    "    for letter in text:\n",
    "        res += letters_perm[letter]\n",
    "    return res"
   ]
  },
  {
   "cell_type": "code",
   "execution_count": 15,
   "id": "c87864c2",
   "metadata": {},
   "outputs": [
    {
     "data": {
      "text/plain": [
       "'  толстой видел несомненную связь между разрушением социальных основ современного дворянского общества   построенного на традициях наследственности и преемственности и распадом семейных устоев   не только семья каренина но и семья облонского разрушается на глазах   один левин сравнивает себя с весталкой хранительницей огня'"
      ]
     },
     "execution_count": 15,
     "metadata": {},
     "output_type": "execute_result"
    }
   ],
   "source": [
    "TEST_TEXT"
   ]
  },
  {
   "cell_type": "code",
   "execution_count": 16,
   "id": "721727ec",
   "metadata": {},
   "outputs": [
    {
     "data": {
      "text/plain": [
       "'ллжтмшжтклусёщмлэщштаэщээъюлшугвилащпёъл хв ъыщэсщалштясхмиэделтшэтулшту щащээтнтлёут гэшьтнтлтчфщшжухлллйтшж тщээтнтлэхлж хёсясгелэхшмщёшжущээтшжслслй щщашжущээтшжслсл хшйхёталшщащкэделъшжтщулллэщлжтмиьтлшщаигльх щэсэхлэтлслшщаиглтчмтэшьтнтл хв ъыхщжшглэхлнмхвхелллтёсэлмщусэлш хуэсухщжлшщчглшлущшжхмьткле хэсжщмиэсящклтнэг'"
      ]
     },
     "execution_count": 16,
     "metadata": {},
     "output_type": "execute_result"
    }
   ],
   "source": [
    "encoded_test_text = encode(TEST_TEXT, letters_perm=letters_perm)\n",
    "encoded_test_text"
   ]
  },
  {
   "cell_type": "code",
   "execution_count": 17,
   "id": "95f703ae",
   "metadata": {},
   "outputs": [],
   "source": [
    "def decode(text, counter):\n",
    "    local_counter = Counter(text)\n",
    "    \n",
    "    letter_counts = []\n",
    "    for letter, count in counter.items():\n",
    "        letter_counts.append((letter, count))\n",
    "    letter_counts = sorted(letter_counts, key=lambda x: x[1], reverse=True)\n",
    "    \n",
    "    local_letter_counts = []\n",
    "    for letter, count in local_counter.items():\n",
    "        local_letter_counts.append((letter, count))\n",
    "    local_letter_counts = sorted(local_letter_counts, key=lambda x: x[1], reverse=True)\n",
    "    \n",
    "    mapping = {}\n",
    "    for i in range(len(local_letter_counts)):\n",
    "        mapping[local_letter_counts[i][0]] = letter_counts[i][0]\n",
    "        \n",
    "    res = ''\n",
    "    for letter in text:\n",
    "        res += mapping[letter]\n",
    "    return res"
   ]
  },
  {
   "cell_type": "code",
   "execution_count": 18,
   "id": "e65d537f",
   "metadata": {},
   "outputs": [
    {
     "data": {
      "text/plain": [
       "'  сорисоы лтмер аеиокаеааях илдзу кеюмя внзвяжеатек иобтнруашг оиаол иолвекеааопо мловдаиьопо очцеислн   йоисвоеааопо ан свнмтбтдг аниремислеааоист т йвеекислеааоист т внийнмок иекеыашг яисоел   ае соруьо иекуд ьнвеатан ао т иекуд очроаиьопо внзвяжнесид ан прнзнг   омта релта ивнлатлнес иечд и леиснрьоы гвнатсеруатбеы опад'"
      ]
     },
     "execution_count": 18,
     "metadata": {},
     "output_type": "execute_result"
    }
   ],
   "source": [
    "decode(encoded_test_text, counter=counter)"
   ]
  },
  {
   "cell_type": "markdown",
   "id": "d08163f3",
   "metadata": {},
   "source": [
    "### Пункт 2"
   ]
  },
  {
   "cell_type": "code",
   "execution_count": 49,
   "id": "8af5c61b",
   "metadata": {},
   "outputs": [],
   "source": [
    "bigrams = [text[i:i + 2] for i in range(0, len(text) - 1, 1)]\n",
    "bigrams_counter = Counter(bigrams)"
   ]
  },
  {
   "cell_type": "code",
   "execution_count": 50,
   "id": "8ef1eed8",
   "metadata": {},
   "outputs": [],
   "source": [
    "def decode(text, bigrams_counter):\n",
    "    local_bigrams = [text[i:i + 2] for i in range(0, len(text) - 1, 1)]\n",
    "    local_bigrams_counter = Counter(local_bigrams)\n",
    "    \n",
    "    bigrams_counts = []\n",
    "    for bigram, count in bigrams_counter.items():\n",
    "        bigrams_counts.append((bigram, count))\n",
    "    bigrams_counts = sorted(bigrams_counts, key=lambda x: x[1], reverse=True)\n",
    "    \n",
    "    local_bigrams_counts = []\n",
    "    for bigram, count in local_bigrams_counter.items():\n",
    "        local_bigrams_counts.append((bigram, count))\n",
    "    local_bigrams_counts = sorted(local_bigrams_counts, key=lambda x: x[1], reverse=True)\n",
    "    \n",
    "    mapping = {}\n",
    "    for i in range(len(local_bigrams_counts)):\n",
    "        mapping[local_bigrams_counts[i][0]] = bigrams_counts[i][0]\n",
    "        \n",
    "    res = ''\n",
    "    for i in range(0, len(text) - 1, 2):\n",
    "        bigram = text[i:i + 2]\n",
    "        res += mapping[bigram]\n",
    "    return res"
   ]
  },
  {
   "cell_type": "code",
   "execution_count": 51,
   "id": "f9eb013f",
   "metadata": {},
   "outputs": [
    {
     "data": {
      "text/plain": [
       "'а ь даь л от е уй  беме аслеойетдом есчт плов е тиел брепрваза ксьтаи таром  о итоинруны ч итоансяо к а илготьом о итоноов патренн ст теисере  но стстаямадиере  но стст пмесклии  вод мна ль  ра  снуь  днеи  ваккисое онпо нени  вак кпеие ч ито плов деейконохомубонаа этонча рони  поедрдеберауди оскаляиду кр пя их дя окл  иик'"
      ]
     },
     "execution_count": 51,
     "metadata": {},
     "output_type": "execute_result"
    }
   ],
   "source": [
    "decode(encoded_test_text, bigrams_counter=bigrams_counter)"
   ]
  },
  {
   "cell_type": "code",
   "execution_count": null,
   "id": "6586f971",
   "metadata": {},
   "outputs": [],
   "source": []
  },
  {
   "cell_type": "code",
   "execution_count": null,
   "id": "737c317d",
   "metadata": {},
   "outputs": [],
   "source": []
  },
  {
   "cell_type": "code",
   "execution_count": null,
   "id": "9218de51",
   "metadata": {},
   "outputs": [],
   "source": []
  },
  {
   "cell_type": "code",
   "execution_count": null,
   "id": "8a1750c3",
   "metadata": {},
   "outputs": [],
   "source": []
  },
  {
   "cell_type": "code",
   "execution_count": null,
   "id": "cf83fa1f",
   "metadata": {},
   "outputs": [],
   "source": []
  }
 ],
 "metadata": {
  "kernelspec": {
   "display_name": "Python 3 (ipykernel)",
   "language": "python",
   "name": "python3"
  },
  "language_info": {
   "codemirror_mode": {
    "name": "ipython",
    "version": 3
   },
   "file_extension": ".py",
   "mimetype": "text/x-python",
   "name": "python",
   "nbconvert_exporter": "python",
   "pygments_lexer": "ipython3",
   "version": "3.7.4"
  }
 },
 "nbformat": 4,
 "nbformat_minor": 5
}
